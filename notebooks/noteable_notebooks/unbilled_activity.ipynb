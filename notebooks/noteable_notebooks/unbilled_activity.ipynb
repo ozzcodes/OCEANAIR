{
 "cells": [
  {
   "cell_type": "markdown",
   "metadata": {
    "collapsed": true,
    "pycharm": {
     "name": "#%% md\n"
    }
   },
   "source": [
    "## Unbilled File Activity Report"
   ]
  },
  {
   "cell_type": "code",
   "execution_count": 1,
   "outputs": [],
   "source": [
    "# import required libraries\n",
    "import pandas as pd\n",
    "import numpy as np\n",
    "import matplotlib.pyplot as plt\n"
   ],
   "metadata": {
    "collapsed": false,
    "pycharm": {
     "name": "#%%\n"
    }
   }
  },
  {
   "cell_type": "markdown",
   "source": [
    "#### Pull in the current unbilled file"
   ],
   "metadata": {
    "collapsed": false,
    "pycharm": {
     "name": "#%% md\n"
    }
   }
  },
  {
   "cell_type": "code",
   "execution_count": 2,
   "outputs": [
    {
     "data": {
      "text/plain": "  Reference No.  MOD    Controller     House B/L  File Number   Account  \\\n0     430034931   AE     TVEILLEUX           NaN          NaN  DELVAL01   \n1     150118736  ABI   RSORRENTINO  LON104504498          NaN    SILMAC   \n2    2403269-01   AI     KLHEUREUX  ADEL20210092          NaN   KLINE02   \n3    2403269-02   AI     KLHEUREUX  ADEL20210094          NaN   KLINE02   \n4       5400078   AI  TSALISBURY50           NaN          NaN       NaN   \n5     150118671  ABI         MDANH           NaN          NaN  WEBIND03   \n6    2403272-01   AI     KLHEUREUX  ADEL20210097          NaN   KLINE02   \n7    2403272-02   AI     KLHEUREUX  ADEL20210098          NaN   KLINE02   \n8     150118672  ABI         MDANH           NaN          NaN  WEBIND03   \n9     150119240  ABI         MDANH           NaN          NaN   SXIND01   \n\n  Carrier    Master B/L  Open Date Delivery ETA Sail/Flt Date Inv.  Bkr.  A/P  \\\n0      UA  016-62126746  1/14/2021          NaN     1/17/2021  Yes   NaN  NaN   \n1      VS   93259175034  1/15/2021    1/18/2021     1/18/2021  Yes   NaN  NaN   \n2      UA  016-58932414  1/18/2021          NaN     1/17/2021  Yes   NaN  NaN   \n3      UA  016-58932414  1/18/2021          NaN     1/17/2021  Yes   NaN  NaN   \n4     NaN           NaN  12/3/2020          NaN      1/1/2021  Yes   NaN  NaN   \n5    HLCU  PRG210104019  1/13/2021    1/29/2021     1/29/2021  Yes   NaN  NaN   \n6      UA  016-64475515  1/20/2021          NaN     1/21/2021  Yes   NaN  NaN   \n7      UA  016-64475515  1/20/2021          NaN     1/21/2021  Yes   NaN  NaN   \n8    HLCU  PRG201212447  1/13/2021     2/1/2021      2/1/2021  Yes   NaN  NaN   \n9      UA   01659892991   2/3/2021     2/4/2021      2/4/2021  Yes   NaN  NaN   \n\n         ETD   File Status  \n0  1/17/2021  Pre-shipment  \n1  1/16/2021          Open  \n2  1/17/2021         - - -  \n3  1/17/2021         - - -  \n4   1/1/2021          Open  \n5  1/13/2021         - - -  \n6  1/21/2021  Pre-shipment  \n7  1/21/2021  Pre-shipment  \n8  1/13/2021         - - -  \n9   2/2/2021         - - -  ",
      "text/html": "<div>\n<style scoped>\n    .dataframe tbody tr th:only-of-type {\n        vertical-align: middle;\n    }\n\n    .dataframe tbody tr th {\n        vertical-align: top;\n    }\n\n    .dataframe thead th {\n        text-align: right;\n    }\n</style>\n<table border=\"1\" class=\"dataframe\">\n  <thead>\n    <tr style=\"text-align: right;\">\n      <th></th>\n      <th>Reference No.</th>\n      <th>MOD</th>\n      <th>Controller</th>\n      <th>House B/L</th>\n      <th>File Number</th>\n      <th>Account</th>\n      <th>Carrier</th>\n      <th>Master B/L</th>\n      <th>Open Date</th>\n      <th>Delivery ETA</th>\n      <th>Sail/Flt Date</th>\n      <th>Inv.</th>\n      <th>Bkr.</th>\n      <th>A/P</th>\n      <th>ETD</th>\n      <th>File Status</th>\n    </tr>\n  </thead>\n  <tbody>\n    <tr>\n      <th>0</th>\n      <td>430034931</td>\n      <td>AE</td>\n      <td>TVEILLEUX</td>\n      <td>NaN</td>\n      <td>NaN</td>\n      <td>DELVAL01</td>\n      <td>UA</td>\n      <td>016-62126746</td>\n      <td>1/14/2021</td>\n      <td>NaN</td>\n      <td>1/17/2021</td>\n      <td>Yes</td>\n      <td>NaN</td>\n      <td>NaN</td>\n      <td>1/17/2021</td>\n      <td>Pre-shipment</td>\n    </tr>\n    <tr>\n      <th>1</th>\n      <td>150118736</td>\n      <td>ABI</td>\n      <td>RSORRENTINO</td>\n      <td>LON104504498</td>\n      <td>NaN</td>\n      <td>SILMAC</td>\n      <td>VS</td>\n      <td>93259175034</td>\n      <td>1/15/2021</td>\n      <td>1/18/2021</td>\n      <td>1/18/2021</td>\n      <td>Yes</td>\n      <td>NaN</td>\n      <td>NaN</td>\n      <td>1/16/2021</td>\n      <td>Open</td>\n    </tr>\n    <tr>\n      <th>2</th>\n      <td>2403269-01</td>\n      <td>AI</td>\n      <td>KLHEUREUX</td>\n      <td>ADEL20210092</td>\n      <td>NaN</td>\n      <td>KLINE02</td>\n      <td>UA</td>\n      <td>016-58932414</td>\n      <td>1/18/2021</td>\n      <td>NaN</td>\n      <td>1/17/2021</td>\n      <td>Yes</td>\n      <td>NaN</td>\n      <td>NaN</td>\n      <td>1/17/2021</td>\n      <td>- - -</td>\n    </tr>\n    <tr>\n      <th>3</th>\n      <td>2403269-02</td>\n      <td>AI</td>\n      <td>KLHEUREUX</td>\n      <td>ADEL20210094</td>\n      <td>NaN</td>\n      <td>KLINE02</td>\n      <td>UA</td>\n      <td>016-58932414</td>\n      <td>1/18/2021</td>\n      <td>NaN</td>\n      <td>1/17/2021</td>\n      <td>Yes</td>\n      <td>NaN</td>\n      <td>NaN</td>\n      <td>1/17/2021</td>\n      <td>- - -</td>\n    </tr>\n    <tr>\n      <th>4</th>\n      <td>5400078</td>\n      <td>AI</td>\n      <td>TSALISBURY50</td>\n      <td>NaN</td>\n      <td>NaN</td>\n      <td>NaN</td>\n      <td>NaN</td>\n      <td>NaN</td>\n      <td>12/3/2020</td>\n      <td>NaN</td>\n      <td>1/1/2021</td>\n      <td>Yes</td>\n      <td>NaN</td>\n      <td>NaN</td>\n      <td>1/1/2021</td>\n      <td>Open</td>\n    </tr>\n    <tr>\n      <th>5</th>\n      <td>150118671</td>\n      <td>ABI</td>\n      <td>MDANH</td>\n      <td>NaN</td>\n      <td>NaN</td>\n      <td>WEBIND03</td>\n      <td>HLCU</td>\n      <td>PRG210104019</td>\n      <td>1/13/2021</td>\n      <td>1/29/2021</td>\n      <td>1/29/2021</td>\n      <td>Yes</td>\n      <td>NaN</td>\n      <td>NaN</td>\n      <td>1/13/2021</td>\n      <td>- - -</td>\n    </tr>\n    <tr>\n      <th>6</th>\n      <td>2403272-01</td>\n      <td>AI</td>\n      <td>KLHEUREUX</td>\n      <td>ADEL20210097</td>\n      <td>NaN</td>\n      <td>KLINE02</td>\n      <td>UA</td>\n      <td>016-64475515</td>\n      <td>1/20/2021</td>\n      <td>NaN</td>\n      <td>1/21/2021</td>\n      <td>Yes</td>\n      <td>NaN</td>\n      <td>NaN</td>\n      <td>1/21/2021</td>\n      <td>Pre-shipment</td>\n    </tr>\n    <tr>\n      <th>7</th>\n      <td>2403272-02</td>\n      <td>AI</td>\n      <td>KLHEUREUX</td>\n      <td>ADEL20210098</td>\n      <td>NaN</td>\n      <td>KLINE02</td>\n      <td>UA</td>\n      <td>016-64475515</td>\n      <td>1/20/2021</td>\n      <td>NaN</td>\n      <td>1/21/2021</td>\n      <td>Yes</td>\n      <td>NaN</td>\n      <td>NaN</td>\n      <td>1/21/2021</td>\n      <td>Pre-shipment</td>\n    </tr>\n    <tr>\n      <th>8</th>\n      <td>150118672</td>\n      <td>ABI</td>\n      <td>MDANH</td>\n      <td>NaN</td>\n      <td>NaN</td>\n      <td>WEBIND03</td>\n      <td>HLCU</td>\n      <td>PRG201212447</td>\n      <td>1/13/2021</td>\n      <td>2/1/2021</td>\n      <td>2/1/2021</td>\n      <td>Yes</td>\n      <td>NaN</td>\n      <td>NaN</td>\n      <td>1/13/2021</td>\n      <td>- - -</td>\n    </tr>\n    <tr>\n      <th>9</th>\n      <td>150119240</td>\n      <td>ABI</td>\n      <td>MDANH</td>\n      <td>NaN</td>\n      <td>NaN</td>\n      <td>SXIND01</td>\n      <td>UA</td>\n      <td>01659892991</td>\n      <td>2/3/2021</td>\n      <td>2/4/2021</td>\n      <td>2/4/2021</td>\n      <td>Yes</td>\n      <td>NaN</td>\n      <td>NaN</td>\n      <td>2/2/2021</td>\n      <td>- - -</td>\n    </tr>\n  </tbody>\n</table>\n</div>"
     },
     "execution_count": 2,
     "metadata": {},
     "output_type": "execute_result"
    }
   ],
   "source": [
    "df = pd.read_csv(r'R:\\Austin_CustomReports\\Unbilled_Data\\UnbilledCurrent.csv', skiprows=3)\n",
    "\n",
    "df.head(10)"
   ],
   "metadata": {
    "collapsed": false,
    "pycharm": {
     "name": "#%%\n"
    }
   }
  },
  {
   "cell_type": "markdown",
   "source": [
    "#### Clean the column headers and index"
   ],
   "metadata": {
    "collapsed": false,
    "pycharm": {
     "name": "#%% md\n"
    }
   }
  },
  {
   "cell_type": "code",
   "execution_count": 3,
   "outputs": [
    {
     "data": {
      "text/plain": "  Reference No.  MOD    Controller     House B/L   Account Carrier  \\\n0     430034931   AE     TVEILLEUX           NaN  DELVAL01      UA   \n1     150118736  ABI   RSORRENTINO  LON104504498    SILMAC      VS   \n2    2403269-01   AI     KLHEUREUX  ADEL20210092   KLINE02      UA   \n3    2403269-02   AI     KLHEUREUX  ADEL20210094   KLINE02      UA   \n4       5400078   AI  TSALISBURY50           NaN       NaN     NaN   \n5     150118671  ABI         MDANH           NaN  WEBIND03    HLCU   \n6    2403272-01   AI     KLHEUREUX  ADEL20210097   KLINE02      UA   \n7    2403272-02   AI     KLHEUREUX  ADEL20210098   KLINE02      UA   \n8     150118672  ABI         MDANH           NaN  WEBIND03    HLCU   \n9     150119240  ABI         MDANH           NaN   SXIND01      UA   \n\n     Master B/L  Open Date Delivery ETA        ETA Inv.  Bkr.  A/P        ETD  \\\n0  016-62126746  1/14/2021          NaN  1/17/2021  Yes   NaN  NaN  1/17/2021   \n1   93259175034  1/15/2021    1/18/2021  1/18/2021  Yes   NaN  NaN  1/16/2021   \n2  016-58932414  1/18/2021          NaN  1/17/2021  Yes   NaN  NaN  1/17/2021   \n3  016-58932414  1/18/2021          NaN  1/17/2021  Yes   NaN  NaN  1/17/2021   \n4           NaN  12/3/2020          NaN   1/1/2021  Yes   NaN  NaN   1/1/2021   \n5  PRG210104019  1/13/2021    1/29/2021  1/29/2021  Yes   NaN  NaN  1/13/2021   \n6  016-64475515  1/20/2021          NaN  1/21/2021  Yes   NaN  NaN  1/21/2021   \n7  016-64475515  1/20/2021          NaN  1/21/2021  Yes   NaN  NaN  1/21/2021   \n8  PRG201212447  1/13/2021     2/1/2021   2/1/2021  Yes   NaN  NaN  1/13/2021   \n9   01659892991   2/3/2021     2/4/2021   2/4/2021  Yes   NaN  NaN   2/2/2021   \n\n    File Status  \n0  Pre-shipment  \n1          Open  \n2         - - -  \n3         - - -  \n4          Open  \n5         - - -  \n6  Pre-shipment  \n7  Pre-shipment  \n8         - - -  \n9         - - -  ",
      "text/html": "<div>\n<style scoped>\n    .dataframe tbody tr th:only-of-type {\n        vertical-align: middle;\n    }\n\n    .dataframe tbody tr th {\n        vertical-align: top;\n    }\n\n    .dataframe thead th {\n        text-align: right;\n    }\n</style>\n<table border=\"1\" class=\"dataframe\">\n  <thead>\n    <tr style=\"text-align: right;\">\n      <th></th>\n      <th>Reference No.</th>\n      <th>MOD</th>\n      <th>Controller</th>\n      <th>House B/L</th>\n      <th>Account</th>\n      <th>Carrier</th>\n      <th>Master B/L</th>\n      <th>Open Date</th>\n      <th>Delivery ETA</th>\n      <th>ETA</th>\n      <th>Inv.</th>\n      <th>Bkr.</th>\n      <th>A/P</th>\n      <th>ETD</th>\n      <th>File Status</th>\n    </tr>\n  </thead>\n  <tbody>\n    <tr>\n      <th>0</th>\n      <td>430034931</td>\n      <td>AE</td>\n      <td>TVEILLEUX</td>\n      <td>NaN</td>\n      <td>DELVAL01</td>\n      <td>UA</td>\n      <td>016-62126746</td>\n      <td>1/14/2021</td>\n      <td>NaN</td>\n      <td>1/17/2021</td>\n      <td>Yes</td>\n      <td>NaN</td>\n      <td>NaN</td>\n      <td>1/17/2021</td>\n      <td>Pre-shipment</td>\n    </tr>\n    <tr>\n      <th>1</th>\n      <td>150118736</td>\n      <td>ABI</td>\n      <td>RSORRENTINO</td>\n      <td>LON104504498</td>\n      <td>SILMAC</td>\n      <td>VS</td>\n      <td>93259175034</td>\n      <td>1/15/2021</td>\n      <td>1/18/2021</td>\n      <td>1/18/2021</td>\n      <td>Yes</td>\n      <td>NaN</td>\n      <td>NaN</td>\n      <td>1/16/2021</td>\n      <td>Open</td>\n    </tr>\n    <tr>\n      <th>2</th>\n      <td>2403269-01</td>\n      <td>AI</td>\n      <td>KLHEUREUX</td>\n      <td>ADEL20210092</td>\n      <td>KLINE02</td>\n      <td>UA</td>\n      <td>016-58932414</td>\n      <td>1/18/2021</td>\n      <td>NaN</td>\n      <td>1/17/2021</td>\n      <td>Yes</td>\n      <td>NaN</td>\n      <td>NaN</td>\n      <td>1/17/2021</td>\n      <td>- - -</td>\n    </tr>\n    <tr>\n      <th>3</th>\n      <td>2403269-02</td>\n      <td>AI</td>\n      <td>KLHEUREUX</td>\n      <td>ADEL20210094</td>\n      <td>KLINE02</td>\n      <td>UA</td>\n      <td>016-58932414</td>\n      <td>1/18/2021</td>\n      <td>NaN</td>\n      <td>1/17/2021</td>\n      <td>Yes</td>\n      <td>NaN</td>\n      <td>NaN</td>\n      <td>1/17/2021</td>\n      <td>- - -</td>\n    </tr>\n    <tr>\n      <th>4</th>\n      <td>5400078</td>\n      <td>AI</td>\n      <td>TSALISBURY50</td>\n      <td>NaN</td>\n      <td>NaN</td>\n      <td>NaN</td>\n      <td>NaN</td>\n      <td>12/3/2020</td>\n      <td>NaN</td>\n      <td>1/1/2021</td>\n      <td>Yes</td>\n      <td>NaN</td>\n      <td>NaN</td>\n      <td>1/1/2021</td>\n      <td>Open</td>\n    </tr>\n    <tr>\n      <th>5</th>\n      <td>150118671</td>\n      <td>ABI</td>\n      <td>MDANH</td>\n      <td>NaN</td>\n      <td>WEBIND03</td>\n      <td>HLCU</td>\n      <td>PRG210104019</td>\n      <td>1/13/2021</td>\n      <td>1/29/2021</td>\n      <td>1/29/2021</td>\n      <td>Yes</td>\n      <td>NaN</td>\n      <td>NaN</td>\n      <td>1/13/2021</td>\n      <td>- - -</td>\n    </tr>\n    <tr>\n      <th>6</th>\n      <td>2403272-01</td>\n      <td>AI</td>\n      <td>KLHEUREUX</td>\n      <td>ADEL20210097</td>\n      <td>KLINE02</td>\n      <td>UA</td>\n      <td>016-64475515</td>\n      <td>1/20/2021</td>\n      <td>NaN</td>\n      <td>1/21/2021</td>\n      <td>Yes</td>\n      <td>NaN</td>\n      <td>NaN</td>\n      <td>1/21/2021</td>\n      <td>Pre-shipment</td>\n    </tr>\n    <tr>\n      <th>7</th>\n      <td>2403272-02</td>\n      <td>AI</td>\n      <td>KLHEUREUX</td>\n      <td>ADEL20210098</td>\n      <td>KLINE02</td>\n      <td>UA</td>\n      <td>016-64475515</td>\n      <td>1/20/2021</td>\n      <td>NaN</td>\n      <td>1/21/2021</td>\n      <td>Yes</td>\n      <td>NaN</td>\n      <td>NaN</td>\n      <td>1/21/2021</td>\n      <td>Pre-shipment</td>\n    </tr>\n    <tr>\n      <th>8</th>\n      <td>150118672</td>\n      <td>ABI</td>\n      <td>MDANH</td>\n      <td>NaN</td>\n      <td>WEBIND03</td>\n      <td>HLCU</td>\n      <td>PRG201212447</td>\n      <td>1/13/2021</td>\n      <td>2/1/2021</td>\n      <td>2/1/2021</td>\n      <td>Yes</td>\n      <td>NaN</td>\n      <td>NaN</td>\n      <td>1/13/2021</td>\n      <td>- - -</td>\n    </tr>\n    <tr>\n      <th>9</th>\n      <td>150119240</td>\n      <td>ABI</td>\n      <td>MDANH</td>\n      <td>NaN</td>\n      <td>SXIND01</td>\n      <td>UA</td>\n      <td>01659892991</td>\n      <td>2/3/2021</td>\n      <td>2/4/2021</td>\n      <td>2/4/2021</td>\n      <td>Yes</td>\n      <td>NaN</td>\n      <td>NaN</td>\n      <td>2/2/2021</td>\n      <td>- - -</td>\n    </tr>\n  </tbody>\n</table>\n</div>"
     },
     "execution_count": 3,
     "metadata": {},
     "output_type": "execute_result"
    }
   ],
   "source": [
    "df.rename(columns=df.iloc[2]).reset_index(inplace=True)\n",
    "\n",
    "df_clean = df.rename({\n",
    "    'Sail/Flt Date': 'ETA'\n",
    "}, axis=1)\n",
    "\n",
    "df_clean = df_clean[['Reference No.', 'MOD', 'Controller', 'House B/L', 'Account', 'Carrier',\n",
    "               'Master B/L', 'Open Date', 'Delivery ETA', 'ETA', 'Inv.', 'Bkr.', 'A/P',\n",
    "               'ETD', 'File Status']]\n",
    "\n",
    "df_clean.head(10)"
   ],
   "metadata": {
    "collapsed": false,
    "pycharm": {
     "name": "#%%\n"
    }
   }
  },
  {
   "cell_type": "markdown",
   "source": [
    "#### Read another Excel file to match Cost"
   ],
   "metadata": {
    "collapsed": false,
    "pycharm": {
     "name": "#%% md\n"
    }
   }
  },
  {
   "cell_type": "code",
   "execution_count": 8,
   "outputs": [
    {
     "data": {
      "text/plain": "  Reference No.  Controller Customer ID       Amount\n0    1115600-01  MRODRIGUEZ    THEDES02  $12,425.00 \n1    1115659-01  MRODRIGUEZ    ELEFOR01     $527.05 \n2    1115662-01      PPOMER    WEBIND03   $4,937.75 \n3    1115675-01      PPOMER    ELEFOR01   $3,925.00 \n4    1115677-01  MRODRIGUEZ    ELEFOR01   $1,414.22 \n5    1115688-01  MRODRIGUEZ    ELEFOR01   $5,111.92 \n6    1115714-01      PPOMER    DARGLO16   $1,813.54 \n7    1115717-01      PPOMER    COLCHA01   $5,470.00 \n8    1115719-01  MRODRIGUEZ    WELLPE01   $5,309.00 \n9    1115724-01  MRODRIGUEZ    NECENE01     $718.13 ",
      "text/html": "<div>\n<style scoped>\n    .dataframe tbody tr th:only-of-type {\n        vertical-align: middle;\n    }\n\n    .dataframe tbody tr th {\n        vertical-align: top;\n    }\n\n    .dataframe thead th {\n        text-align: right;\n    }\n</style>\n<table border=\"1\" class=\"dataframe\">\n  <thead>\n    <tr style=\"text-align: right;\">\n      <th></th>\n      <th>Reference No.</th>\n      <th>Controller</th>\n      <th>Customer ID</th>\n      <th>Amount</th>\n    </tr>\n  </thead>\n  <tbody>\n    <tr>\n      <th>0</th>\n      <td>1115600-01</td>\n      <td>MRODRIGUEZ</td>\n      <td>THEDES02</td>\n      <td>$12,425.00</td>\n    </tr>\n    <tr>\n      <th>1</th>\n      <td>1115659-01</td>\n      <td>MRODRIGUEZ</td>\n      <td>ELEFOR01</td>\n      <td>$527.05</td>\n    </tr>\n    <tr>\n      <th>2</th>\n      <td>1115662-01</td>\n      <td>PPOMER</td>\n      <td>WEBIND03</td>\n      <td>$4,937.75</td>\n    </tr>\n    <tr>\n      <th>3</th>\n      <td>1115675-01</td>\n      <td>PPOMER</td>\n      <td>ELEFOR01</td>\n      <td>$3,925.00</td>\n    </tr>\n    <tr>\n      <th>4</th>\n      <td>1115677-01</td>\n      <td>MRODRIGUEZ</td>\n      <td>ELEFOR01</td>\n      <td>$1,414.22</td>\n    </tr>\n    <tr>\n      <th>5</th>\n      <td>1115688-01</td>\n      <td>MRODRIGUEZ</td>\n      <td>ELEFOR01</td>\n      <td>$5,111.92</td>\n    </tr>\n    <tr>\n      <th>6</th>\n      <td>1115714-01</td>\n      <td>PPOMER</td>\n      <td>DARGLO16</td>\n      <td>$1,813.54</td>\n    </tr>\n    <tr>\n      <th>7</th>\n      <td>1115717-01</td>\n      <td>PPOMER</td>\n      <td>COLCHA01</td>\n      <td>$5,470.00</td>\n    </tr>\n    <tr>\n      <th>8</th>\n      <td>1115719-01</td>\n      <td>MRODRIGUEZ</td>\n      <td>WELLPE01</td>\n      <td>$5,309.00</td>\n    </tr>\n    <tr>\n      <th>9</th>\n      <td>1115724-01</td>\n      <td>MRODRIGUEZ</td>\n      <td>NECENE01</td>\n      <td>$718.13</td>\n    </tr>\n  </tbody>\n</table>\n</div>"
     },
     "execution_count": 8,
     "metadata": {},
     "output_type": "execute_result"
    }
   ],
   "source": [
    "df2 = pd.read_csv(r'R:\\Austin_CustomReports\\Unbilled_Data\\Unbilled_test-AP.csv')\n",
    "df2_clean = df2[['Reference No.', 'Controller', 'Customer ID', 'Amount']]\n",
    "df2_clean.head(10)\n"
   ],
   "metadata": {
    "collapsed": false,
    "pycharm": {
     "name": "#%%\n"
    }
   }
  },
  {
   "cell_type": "markdown",
   "source": [
    "#### Use a vlookup function to match the Reference No."
   ],
   "metadata": {
    "collapsed": false,
    "pycharm": {
     "name": "#%% md\n"
    }
   }
  },
  {
   "cell_type": "code",
   "execution_count": 9,
   "outputs": [
    {
     "data": {
      "text/plain": "    Reference No.  MOD   Controller_x     House B/L   Account Carrier  \\\n0       150118736  ABI    RSORRENTINO  LON104504498    SILMAC      VS   \n1       150119240  ABI          MDANH           NaN   SXIND01      UA   \n2       150119351  ABI          MDANH   NEC84939890  MICROS01      OZ   \n3      1233251-01   OI         POSCAR      31013199    WATMAR    CMDU   \n4      5101078-01   OE      AWILSON50           NaN  HYDINC01    EGLV   \n..            ...  ...            ...           ...       ...     ...   \n758     633010692   AE       DLAFORGE     633010692  LANMED02      KE   \n759     633010698   AE           KLAU           NaN  IMMINC06      FX   \n760  633010762-01   AE           KLAU  633010762-01  IMMINC06      60   \n761       6401431   AI  RSORRENTINO60       6401431  LANMED02      UA   \n762    8400047-01   AI       RGORGONE  NCEE00261910  JONBAR01      AF   \n\n           Master B/L  Open Date Delivery ETA        ETA Inv.  Bkr.  A/P  \\\n0         93259175034  1/15/2021    1/18/2021  1/18/2021  Yes   NaN  NaN   \n1         01659892991   2/3/2021     2/4/2021   2/4/2021  Yes   NaN  NaN   \n2         98826672542   2/5/2021     2/5/2021   2/5/2021  Yes   NaN  NaN   \n3      CMDURTM1064146  1/25/2021    4/26/2021  4/26/2021  Yes   NaN  NaN   \n4    EGLV003100234148   3/2/2021          NaN   3/2/2021  Yes   NaN  NaN   \n..                ...        ...          ...        ...  ...   ...  ...   \n758      180-47729150   6/3/2021          NaN  6/14/2021  Yes   NaN  NaN   \n759      023-78129870   6/4/2021          NaN  6/14/2021  Yes   NaN  NaN   \n760      023-78129892  6/10/2021          NaN  6/14/2021  Yes   NaN  NaN   \n761      016-65491263  6/11/2021    6/14/2021  6/14/2021  Yes   NaN  NaN   \n762      057-57118880   6/1/2021    6/14/2021  6/14/2021  Yes   NaN  NaN   \n\n           ETD               File Status   Controller_y Customer ID  \\\n0    1/16/2021                      Open    RSORRENTINO      SILMAC   \n1     2/2/2021                     - - -          MDANH     SXIND01   \n2    1/26/2021                     - - -          MDANH    MICROS01   \n3     2/3/2021                   Cleared         POSCAR      WATMAR   \n4    4/22/2021  Arrived Destination Port      AWILSON50    HYDINC01   \n..         ...                       ...            ...         ...   \n758  6/14/2021              Pre-shipment       DLAFORGE    LANMED02   \n759  6/14/2021              Pre-shipment           KLAU    IMMINC06   \n760  6/14/2021              Pre-shipment           KLAU    IMMINC06   \n761  6/14/2021              Cargo Booked  RSORRENTINO60    LANMED02   \n762  6/14/2021                   Cleared       RGORGONE    JONBAR01   \n\n          Amount  \n0     $1,438.71   \n1    $96,320.00   \n2     $2,170.14   \n3     $1,319.68   \n4    $57,900.00   \n..           ...  \n758     $674.35   \n759   $2,697.30   \n760   $1,050.00   \n761     $460.00   \n762   $1,325.20   \n\n[763 rows x 18 columns]",
      "text/html": "<div>\n<style scoped>\n    .dataframe tbody tr th:only-of-type {\n        vertical-align: middle;\n    }\n\n    .dataframe tbody tr th {\n        vertical-align: top;\n    }\n\n    .dataframe thead th {\n        text-align: right;\n    }\n</style>\n<table border=\"1\" class=\"dataframe\">\n  <thead>\n    <tr style=\"text-align: right;\">\n      <th></th>\n      <th>Reference No.</th>\n      <th>MOD</th>\n      <th>Controller_x</th>\n      <th>House B/L</th>\n      <th>Account</th>\n      <th>Carrier</th>\n      <th>Master B/L</th>\n      <th>Open Date</th>\n      <th>Delivery ETA</th>\n      <th>ETA</th>\n      <th>Inv.</th>\n      <th>Bkr.</th>\n      <th>A/P</th>\n      <th>ETD</th>\n      <th>File Status</th>\n      <th>Controller_y</th>\n      <th>Customer ID</th>\n      <th>Amount</th>\n    </tr>\n  </thead>\n  <tbody>\n    <tr>\n      <th>0</th>\n      <td>150118736</td>\n      <td>ABI</td>\n      <td>RSORRENTINO</td>\n      <td>LON104504498</td>\n      <td>SILMAC</td>\n      <td>VS</td>\n      <td>93259175034</td>\n      <td>1/15/2021</td>\n      <td>1/18/2021</td>\n      <td>1/18/2021</td>\n      <td>Yes</td>\n      <td>NaN</td>\n      <td>NaN</td>\n      <td>1/16/2021</td>\n      <td>Open</td>\n      <td>RSORRENTINO</td>\n      <td>SILMAC</td>\n      <td>$1,438.71</td>\n    </tr>\n    <tr>\n      <th>1</th>\n      <td>150119240</td>\n      <td>ABI</td>\n      <td>MDANH</td>\n      <td>NaN</td>\n      <td>SXIND01</td>\n      <td>UA</td>\n      <td>01659892991</td>\n      <td>2/3/2021</td>\n      <td>2/4/2021</td>\n      <td>2/4/2021</td>\n      <td>Yes</td>\n      <td>NaN</td>\n      <td>NaN</td>\n      <td>2/2/2021</td>\n      <td>- - -</td>\n      <td>MDANH</td>\n      <td>SXIND01</td>\n      <td>$96,320.00</td>\n    </tr>\n    <tr>\n      <th>2</th>\n      <td>150119351</td>\n      <td>ABI</td>\n      <td>MDANH</td>\n      <td>NEC84939890</td>\n      <td>MICROS01</td>\n      <td>OZ</td>\n      <td>98826672542</td>\n      <td>2/5/2021</td>\n      <td>2/5/2021</td>\n      <td>2/5/2021</td>\n      <td>Yes</td>\n      <td>NaN</td>\n      <td>NaN</td>\n      <td>1/26/2021</td>\n      <td>- - -</td>\n      <td>MDANH</td>\n      <td>MICROS01</td>\n      <td>$2,170.14</td>\n    </tr>\n    <tr>\n      <th>3</th>\n      <td>1233251-01</td>\n      <td>OI</td>\n      <td>POSCAR</td>\n      <td>31013199</td>\n      <td>WATMAR</td>\n      <td>CMDU</td>\n      <td>CMDURTM1064146</td>\n      <td>1/25/2021</td>\n      <td>4/26/2021</td>\n      <td>4/26/2021</td>\n      <td>Yes</td>\n      <td>NaN</td>\n      <td>NaN</td>\n      <td>2/3/2021</td>\n      <td>Cleared</td>\n      <td>POSCAR</td>\n      <td>WATMAR</td>\n      <td>$1,319.68</td>\n    </tr>\n    <tr>\n      <th>4</th>\n      <td>5101078-01</td>\n      <td>OE</td>\n      <td>AWILSON50</td>\n      <td>NaN</td>\n      <td>HYDINC01</td>\n      <td>EGLV</td>\n      <td>EGLV003100234148</td>\n      <td>3/2/2021</td>\n      <td>NaN</td>\n      <td>3/2/2021</td>\n      <td>Yes</td>\n      <td>NaN</td>\n      <td>NaN</td>\n      <td>4/22/2021</td>\n      <td>Arrived Destination Port</td>\n      <td>AWILSON50</td>\n      <td>HYDINC01</td>\n      <td>$57,900.00</td>\n    </tr>\n    <tr>\n      <th>...</th>\n      <td>...</td>\n      <td>...</td>\n      <td>...</td>\n      <td>...</td>\n      <td>...</td>\n      <td>...</td>\n      <td>...</td>\n      <td>...</td>\n      <td>...</td>\n      <td>...</td>\n      <td>...</td>\n      <td>...</td>\n      <td>...</td>\n      <td>...</td>\n      <td>...</td>\n      <td>...</td>\n      <td>...</td>\n      <td>...</td>\n    </tr>\n    <tr>\n      <th>758</th>\n      <td>633010692</td>\n      <td>AE</td>\n      <td>DLAFORGE</td>\n      <td>633010692</td>\n      <td>LANMED02</td>\n      <td>KE</td>\n      <td>180-47729150</td>\n      <td>6/3/2021</td>\n      <td>NaN</td>\n      <td>6/14/2021</td>\n      <td>Yes</td>\n      <td>NaN</td>\n      <td>NaN</td>\n      <td>6/14/2021</td>\n      <td>Pre-shipment</td>\n      <td>DLAFORGE</td>\n      <td>LANMED02</td>\n      <td>$674.35</td>\n    </tr>\n    <tr>\n      <th>759</th>\n      <td>633010698</td>\n      <td>AE</td>\n      <td>KLAU</td>\n      <td>NaN</td>\n      <td>IMMINC06</td>\n      <td>FX</td>\n      <td>023-78129870</td>\n      <td>6/4/2021</td>\n      <td>NaN</td>\n      <td>6/14/2021</td>\n      <td>Yes</td>\n      <td>NaN</td>\n      <td>NaN</td>\n      <td>6/14/2021</td>\n      <td>Pre-shipment</td>\n      <td>KLAU</td>\n      <td>IMMINC06</td>\n      <td>$2,697.30</td>\n    </tr>\n    <tr>\n      <th>760</th>\n      <td>633010762-01</td>\n      <td>AE</td>\n      <td>KLAU</td>\n      <td>633010762-01</td>\n      <td>IMMINC06</td>\n      <td>60</td>\n      <td>023-78129892</td>\n      <td>6/10/2021</td>\n      <td>NaN</td>\n      <td>6/14/2021</td>\n      <td>Yes</td>\n      <td>NaN</td>\n      <td>NaN</td>\n      <td>6/14/2021</td>\n      <td>Pre-shipment</td>\n      <td>KLAU</td>\n      <td>IMMINC06</td>\n      <td>$1,050.00</td>\n    </tr>\n    <tr>\n      <th>761</th>\n      <td>6401431</td>\n      <td>AI</td>\n      <td>RSORRENTINO60</td>\n      <td>6401431</td>\n      <td>LANMED02</td>\n      <td>UA</td>\n      <td>016-65491263</td>\n      <td>6/11/2021</td>\n      <td>6/14/2021</td>\n      <td>6/14/2021</td>\n      <td>Yes</td>\n      <td>NaN</td>\n      <td>NaN</td>\n      <td>6/14/2021</td>\n      <td>Cargo Booked</td>\n      <td>RSORRENTINO60</td>\n      <td>LANMED02</td>\n      <td>$460.00</td>\n    </tr>\n    <tr>\n      <th>762</th>\n      <td>8400047-01</td>\n      <td>AI</td>\n      <td>RGORGONE</td>\n      <td>NCEE00261910</td>\n      <td>JONBAR01</td>\n      <td>AF</td>\n      <td>057-57118880</td>\n      <td>6/1/2021</td>\n      <td>6/14/2021</td>\n      <td>6/14/2021</td>\n      <td>Yes</td>\n      <td>NaN</td>\n      <td>NaN</td>\n      <td>6/14/2021</td>\n      <td>Cleared</td>\n      <td>RGORGONE</td>\n      <td>JONBAR01</td>\n      <td>$1,325.20</td>\n    </tr>\n  </tbody>\n</table>\n<p>763 rows × 18 columns</p>\n</div>"
     },
     "execution_count": 9,
     "metadata": {},
     "output_type": "execute_result"
    }
   ],
   "source": [
    "my_vlookup = pd.merge(df_clean, df2_clean, on='Reference No.', how='inner')\n",
    "my_vlookup"
   ],
   "metadata": {
    "collapsed": false,
    "pycharm": {
     "name": "#%%\n"
    }
   }
  },
  {
   "cell_type": "markdown",
   "source": [
    "Export to a csv file"
   ],
   "metadata": {
    "collapsed": false,
    "pycharm": {
     "name": "#%% md\n"
    }
   }
  },
  {
   "cell_type": "code",
   "execution_count": 11,
   "outputs": [],
   "source": [
    "new_file = my_vlookup.to_csv(r'R:\\Austin_CustomReports\\Unbilled_Data\\Unbilled_Matched-Costs.csv')\n",
    "new_file"
   ],
   "metadata": {
    "collapsed": false,
    "pycharm": {
     "name": "#%%\n"
    }
   }
  },
  {
   "cell_type": "code",
   "execution_count": 29,
   "outputs": [
    {
     "data": {
      "text/plain": "  Reference No.  DIVISION CUSTOMER CODE  REVENUE  EXPENSE  PROFIT  \\\n0           NaN        20           NaN     0.00     0.00    0.00   \n1       0000001        10        WATMAR     0.00     0.00    0.00   \n2       0000181        10            10     0.00     0.00    0.00   \n3       0000182        10            10     0.00     0.00    0.00   \n4       0000183        10            10     0.00     0.00    0.00   \n5       0000188        10            10     0.00     0.00    0.00   \n6  001328873-01        10       BAKTA01  1887.11  1643.21  243.90   \n7  001328874-01        10       BAKTA01  1379.85  1200.54  179.31   \n8  001328911-01        10      ELEFOR01  1625.95   917.07  708.88   \n9     012267-00        78      URTINC01  2568.00  2260.00  308.00   \n\n   TOTAL BILLED TO ACCOUNT  \n0                     0.00  \n1                     0.00  \n2                     0.00  \n3                     0.00  \n4                     0.00  \n5                     0.00  \n6                  1902.11  \n7                  1394.85  \n8                  1825.95  \n9                  2568.00  ",
      "text/html": "<div>\n<style scoped>\n    .dataframe tbody tr th:only-of-type {\n        vertical-align: middle;\n    }\n\n    .dataframe tbody tr th {\n        vertical-align: top;\n    }\n\n    .dataframe thead th {\n        text-align: right;\n    }\n</style>\n<table border=\"1\" class=\"dataframe\">\n  <thead>\n    <tr style=\"text-align: right;\">\n      <th></th>\n      <th>Reference No.</th>\n      <th>DIVISION</th>\n      <th>CUSTOMER CODE</th>\n      <th>REVENUE</th>\n      <th>EXPENSE</th>\n      <th>PROFIT</th>\n      <th>TOTAL BILLED TO ACCOUNT</th>\n    </tr>\n  </thead>\n  <tbody>\n    <tr>\n      <th>0</th>\n      <td>NaN</td>\n      <td>20</td>\n      <td>NaN</td>\n      <td>0.00</td>\n      <td>0.00</td>\n      <td>0.00</td>\n      <td>0.00</td>\n    </tr>\n    <tr>\n      <th>1</th>\n      <td>0000001</td>\n      <td>10</td>\n      <td>WATMAR</td>\n      <td>0.00</td>\n      <td>0.00</td>\n      <td>0.00</td>\n      <td>0.00</td>\n    </tr>\n    <tr>\n      <th>2</th>\n      <td>0000181</td>\n      <td>10</td>\n      <td>10</td>\n      <td>0.00</td>\n      <td>0.00</td>\n      <td>0.00</td>\n      <td>0.00</td>\n    </tr>\n    <tr>\n      <th>3</th>\n      <td>0000182</td>\n      <td>10</td>\n      <td>10</td>\n      <td>0.00</td>\n      <td>0.00</td>\n      <td>0.00</td>\n      <td>0.00</td>\n    </tr>\n    <tr>\n      <th>4</th>\n      <td>0000183</td>\n      <td>10</td>\n      <td>10</td>\n      <td>0.00</td>\n      <td>0.00</td>\n      <td>0.00</td>\n      <td>0.00</td>\n    </tr>\n    <tr>\n      <th>5</th>\n      <td>0000188</td>\n      <td>10</td>\n      <td>10</td>\n      <td>0.00</td>\n      <td>0.00</td>\n      <td>0.00</td>\n      <td>0.00</td>\n    </tr>\n    <tr>\n      <th>6</th>\n      <td>001328873-01</td>\n      <td>10</td>\n      <td>BAKTA01</td>\n      <td>1887.11</td>\n      <td>1643.21</td>\n      <td>243.90</td>\n      <td>1902.11</td>\n    </tr>\n    <tr>\n      <th>7</th>\n      <td>001328874-01</td>\n      <td>10</td>\n      <td>BAKTA01</td>\n      <td>1379.85</td>\n      <td>1200.54</td>\n      <td>179.31</td>\n      <td>1394.85</td>\n    </tr>\n    <tr>\n      <th>8</th>\n      <td>001328911-01</td>\n      <td>10</td>\n      <td>ELEFOR01</td>\n      <td>1625.95</td>\n      <td>917.07</td>\n      <td>708.88</td>\n      <td>1825.95</td>\n    </tr>\n    <tr>\n      <th>9</th>\n      <td>012267-00</td>\n      <td>78</td>\n      <td>URTINC01</td>\n      <td>2568.00</td>\n      <td>2260.00</td>\n      <td>308.00</td>\n      <td>2568.00</td>\n    </tr>\n  </tbody>\n</table>\n</div>"
     },
     "execution_count": 29,
     "metadata": {},
     "output_type": "execute_result"
    }
   ],
   "source": [
    "all_files_df = pd.read_csv('../../data/AllShipments_cleaned.csv').reset_index(drop=True).drop(columns='Unnamed: 0')\n",
    "new_df = all_files_df.rename({\n",
    "    'FILE NO': 'Reference No.'\n",
    "}, axis=1)\n",
    "\n",
    "new_df.head(10)\n",
    "\n",
    "all_files_df_cleaned = new_df[['Reference No.', 'DIVISION', 'CUSTOMER CODE', 'REVENUE',\n",
    "                                     'EXPENSE', 'PROFIT', 'TOTAL BILLED TO ACCOUNT']]\n",
    "\n",
    "all_files_df_cleaned.head(10)"
   ],
   "metadata": {
    "collapsed": false,
    "pycharm": {
     "name": "#%%\n"
    }
   }
  },
  {
   "cell_type": "code",
   "execution_count": 30,
   "outputs": [
    {
     "data": {
      "text/plain": "    Reference No.  MOD    Controller     House B/L   Account Carrier  \\\n0       430034931   AE     TVEILLEUX           NaN  DELVAL01      UA   \n1       150118736  ABI   RSORRENTINO  LON104504498    SILMAC      VS   \n2      2403269-01   AI     KLHEUREUX  ADEL20210092   KLINE02      UA   \n3      2403269-02   AI     KLHEUREUX  ADEL20210094   KLINE02      UA   \n4         5400078   AI  TSALISBURY50           NaN       NaN     NaN   \n..            ...  ...           ...           ...       ...     ...   \n646    5101160-01   OE  TSALISBURY50           NaN  WELBEL01    HLCU   \n647       7200411   OI   WWESTERHOLD  SHLAX2105083  ORAINC01     NaN   \n648     730000237   AE   WWESTERHOLD           NaN  SCEBIO01      LH   \n649       7400275   AI   WWESTERHOLD  VIORDK05002A  WISLLC02    I385   \n650  130033352-01   AE        STRASK  130033352-01  AKOBIO02      10   \n\n           Master B/L  Open Date Delivery ETA        ETA  ... Bkr.  A/P  \\\n0        016-62126746  1/14/2021          NaN  1/17/2021  ...  NaN  NaN   \n1         93259175034  1/15/2021    1/18/2021  1/18/2021  ...  NaN  NaN   \n2        016-58932414  1/18/2021          NaN  1/17/2021  ...  NaN  NaN   \n3        016-58932414  1/18/2021          NaN  1/17/2021  ...  NaN  NaN   \n4                 NaN  12/3/2020          NaN   1/1/2021  ...  NaN  NaN   \n..                ...        ...          ...        ...  ...  ...  ...   \n646  HLCUBKK2105BBBP5  5/28/2021          NaN  5/31/2021  ...  NaN  NaN   \n647    CMDUCNXC004528  4/15/2021    5/31/2021  5/31/2021  ...  NaN  NaN   \n648      020-94247156  5/26/2021          NaN  5/31/2021  ...  NaN  NaN   \n649      297-38380440   6/1/2021    5/31/2021  5/29/2021  ...  NaN  NaN   \n650      020-81680060  5/19/2021          NaN  6/10/2021  ...  NaN  NaN   \n\n           ETD               File Status DIVISION  CUSTOMER CODE REVENUE  \\\n0    1/17/2021              Pre-shipment       40       DELVAL01     0.0   \n1    1/16/2021                      Open       10         SILMAC     0.0   \n2    1/17/2021                     - - -       20        KLINE02  4412.8   \n3    1/17/2021                     - - -       20        KLINE02  1380.9   \n4     1/1/2021                      Open       50            NaN     0.0   \n..         ...                       ...      ...            ...     ...   \n646        NaN        Confirmed On Board       50       WELBEL01     0.0   \n647  5/20/2021                     - - -       77       ORAINC01     0.0   \n648  5/31/2021              Pre-shipment       77       SCEBIO01     0.0   \n649  5/29/2021                     - - -       77       WISLLC02     0.0   \n650  6/10/2021  Arrived Destination Port       10       AKOBIO02     0.0   \n\n      EXPENSE    PROFIT  TOTAL BILLED TO ACCOUNT  \n0      227.35   -227.35                      0.0  \n1     1012.77      0.00                      0.0  \n2     4273.80    139.00                   4373.8  \n3     1277.40    103.50                   1369.9  \n4        0.00      0.00                      0.0  \n..        ...       ...                      ...  \n646      0.00      0.00                      0.0  \n647  47774.07 -47774.07                      0.0  \n648      0.00      0.00                      0.0  \n649    279.00   -279.00                      0.0  \n650   1055.82      0.00                      0.0  \n\n[651 rows x 21 columns]",
      "text/html": "<div>\n<style scoped>\n    .dataframe tbody tr th:only-of-type {\n        vertical-align: middle;\n    }\n\n    .dataframe tbody tr th {\n        vertical-align: top;\n    }\n\n    .dataframe thead th {\n        text-align: right;\n    }\n</style>\n<table border=\"1\" class=\"dataframe\">\n  <thead>\n    <tr style=\"text-align: right;\">\n      <th></th>\n      <th>Reference No.</th>\n      <th>MOD</th>\n      <th>Controller</th>\n      <th>House B/L</th>\n      <th>Account</th>\n      <th>Carrier</th>\n      <th>Master B/L</th>\n      <th>Open Date</th>\n      <th>Delivery ETA</th>\n      <th>ETA</th>\n      <th>...</th>\n      <th>Bkr.</th>\n      <th>A/P</th>\n      <th>ETD</th>\n      <th>File Status</th>\n      <th>DIVISION</th>\n      <th>CUSTOMER CODE</th>\n      <th>REVENUE</th>\n      <th>EXPENSE</th>\n      <th>PROFIT</th>\n      <th>TOTAL BILLED TO ACCOUNT</th>\n    </tr>\n  </thead>\n  <tbody>\n    <tr>\n      <th>0</th>\n      <td>430034931</td>\n      <td>AE</td>\n      <td>TVEILLEUX</td>\n      <td>NaN</td>\n      <td>DELVAL01</td>\n      <td>UA</td>\n      <td>016-62126746</td>\n      <td>1/14/2021</td>\n      <td>NaN</td>\n      <td>1/17/2021</td>\n      <td>...</td>\n      <td>NaN</td>\n      <td>NaN</td>\n      <td>1/17/2021</td>\n      <td>Pre-shipment</td>\n      <td>40</td>\n      <td>DELVAL01</td>\n      <td>0.0</td>\n      <td>227.35</td>\n      <td>-227.35</td>\n      <td>0.0</td>\n    </tr>\n    <tr>\n      <th>1</th>\n      <td>150118736</td>\n      <td>ABI</td>\n      <td>RSORRENTINO</td>\n      <td>LON104504498</td>\n      <td>SILMAC</td>\n      <td>VS</td>\n      <td>93259175034</td>\n      <td>1/15/2021</td>\n      <td>1/18/2021</td>\n      <td>1/18/2021</td>\n      <td>...</td>\n      <td>NaN</td>\n      <td>NaN</td>\n      <td>1/16/2021</td>\n      <td>Open</td>\n      <td>10</td>\n      <td>SILMAC</td>\n      <td>0.0</td>\n      <td>1012.77</td>\n      <td>0.00</td>\n      <td>0.0</td>\n    </tr>\n    <tr>\n      <th>2</th>\n      <td>2403269-01</td>\n      <td>AI</td>\n      <td>KLHEUREUX</td>\n      <td>ADEL20210092</td>\n      <td>KLINE02</td>\n      <td>UA</td>\n      <td>016-58932414</td>\n      <td>1/18/2021</td>\n      <td>NaN</td>\n      <td>1/17/2021</td>\n      <td>...</td>\n      <td>NaN</td>\n      <td>NaN</td>\n      <td>1/17/2021</td>\n      <td>- - -</td>\n      <td>20</td>\n      <td>KLINE02</td>\n      <td>4412.8</td>\n      <td>4273.80</td>\n      <td>139.00</td>\n      <td>4373.8</td>\n    </tr>\n    <tr>\n      <th>3</th>\n      <td>2403269-02</td>\n      <td>AI</td>\n      <td>KLHEUREUX</td>\n      <td>ADEL20210094</td>\n      <td>KLINE02</td>\n      <td>UA</td>\n      <td>016-58932414</td>\n      <td>1/18/2021</td>\n      <td>NaN</td>\n      <td>1/17/2021</td>\n      <td>...</td>\n      <td>NaN</td>\n      <td>NaN</td>\n      <td>1/17/2021</td>\n      <td>- - -</td>\n      <td>20</td>\n      <td>KLINE02</td>\n      <td>1380.9</td>\n      <td>1277.40</td>\n      <td>103.50</td>\n      <td>1369.9</td>\n    </tr>\n    <tr>\n      <th>4</th>\n      <td>5400078</td>\n      <td>AI</td>\n      <td>TSALISBURY50</td>\n      <td>NaN</td>\n      <td>NaN</td>\n      <td>NaN</td>\n      <td>NaN</td>\n      <td>12/3/2020</td>\n      <td>NaN</td>\n      <td>1/1/2021</td>\n      <td>...</td>\n      <td>NaN</td>\n      <td>NaN</td>\n      <td>1/1/2021</td>\n      <td>Open</td>\n      <td>50</td>\n      <td>NaN</td>\n      <td>0.0</td>\n      <td>0.00</td>\n      <td>0.00</td>\n      <td>0.0</td>\n    </tr>\n    <tr>\n      <th>...</th>\n      <td>...</td>\n      <td>...</td>\n      <td>...</td>\n      <td>...</td>\n      <td>...</td>\n      <td>...</td>\n      <td>...</td>\n      <td>...</td>\n      <td>...</td>\n      <td>...</td>\n      <td>...</td>\n      <td>...</td>\n      <td>...</td>\n      <td>...</td>\n      <td>...</td>\n      <td>...</td>\n      <td>...</td>\n      <td>...</td>\n      <td>...</td>\n      <td>...</td>\n      <td>...</td>\n    </tr>\n    <tr>\n      <th>646</th>\n      <td>5101160-01</td>\n      <td>OE</td>\n      <td>TSALISBURY50</td>\n      <td>NaN</td>\n      <td>WELBEL01</td>\n      <td>HLCU</td>\n      <td>HLCUBKK2105BBBP5</td>\n      <td>5/28/2021</td>\n      <td>NaN</td>\n      <td>5/31/2021</td>\n      <td>...</td>\n      <td>NaN</td>\n      <td>NaN</td>\n      <td>NaN</td>\n      <td>Confirmed On Board</td>\n      <td>50</td>\n      <td>WELBEL01</td>\n      <td>0.0</td>\n      <td>0.00</td>\n      <td>0.00</td>\n      <td>0.0</td>\n    </tr>\n    <tr>\n      <th>647</th>\n      <td>7200411</td>\n      <td>OI</td>\n      <td>WWESTERHOLD</td>\n      <td>SHLAX2105083</td>\n      <td>ORAINC01</td>\n      <td>NaN</td>\n      <td>CMDUCNXC004528</td>\n      <td>4/15/2021</td>\n      <td>5/31/2021</td>\n      <td>5/31/2021</td>\n      <td>...</td>\n      <td>NaN</td>\n      <td>NaN</td>\n      <td>5/20/2021</td>\n      <td>- - -</td>\n      <td>77</td>\n      <td>ORAINC01</td>\n      <td>0.0</td>\n      <td>47774.07</td>\n      <td>-47774.07</td>\n      <td>0.0</td>\n    </tr>\n    <tr>\n      <th>648</th>\n      <td>730000237</td>\n      <td>AE</td>\n      <td>WWESTERHOLD</td>\n      <td>NaN</td>\n      <td>SCEBIO01</td>\n      <td>LH</td>\n      <td>020-94247156</td>\n      <td>5/26/2021</td>\n      <td>NaN</td>\n      <td>5/31/2021</td>\n      <td>...</td>\n      <td>NaN</td>\n      <td>NaN</td>\n      <td>5/31/2021</td>\n      <td>Pre-shipment</td>\n      <td>77</td>\n      <td>SCEBIO01</td>\n      <td>0.0</td>\n      <td>0.00</td>\n      <td>0.00</td>\n      <td>0.0</td>\n    </tr>\n    <tr>\n      <th>649</th>\n      <td>7400275</td>\n      <td>AI</td>\n      <td>WWESTERHOLD</td>\n      <td>VIORDK05002A</td>\n      <td>WISLLC02</td>\n      <td>I385</td>\n      <td>297-38380440</td>\n      <td>6/1/2021</td>\n      <td>5/31/2021</td>\n      <td>5/29/2021</td>\n      <td>...</td>\n      <td>NaN</td>\n      <td>NaN</td>\n      <td>5/29/2021</td>\n      <td>- - -</td>\n      <td>77</td>\n      <td>WISLLC02</td>\n      <td>0.0</td>\n      <td>279.00</td>\n      <td>-279.00</td>\n      <td>0.0</td>\n    </tr>\n    <tr>\n      <th>650</th>\n      <td>130033352-01</td>\n      <td>AE</td>\n      <td>STRASK</td>\n      <td>130033352-01</td>\n      <td>AKOBIO02</td>\n      <td>10</td>\n      <td>020-81680060</td>\n      <td>5/19/2021</td>\n      <td>NaN</td>\n      <td>6/10/2021</td>\n      <td>...</td>\n      <td>NaN</td>\n      <td>NaN</td>\n      <td>6/10/2021</td>\n      <td>Arrived Destination Port</td>\n      <td>10</td>\n      <td>AKOBIO02</td>\n      <td>0.0</td>\n      <td>1055.82</td>\n      <td>0.00</td>\n      <td>0.0</td>\n    </tr>\n  </tbody>\n</table>\n<p>651 rows × 21 columns</p>\n</div>"
     },
     "execution_count": 30,
     "metadata": {},
     "output_type": "execute_result"
    }
   ],
   "source": [
    "my_vlookup2 = pd.merge(df_clean, all_files_df_cleaned, on='Reference No.', how='inner')\n",
    "my_vlookup2"
   ],
   "metadata": {
    "collapsed": false,
    "pycharm": {
     "name": "#%%\n"
    }
   }
  },
  {
   "cell_type": "code",
   "execution_count": 31,
   "outputs": [],
   "source": [
    "new_file2 = my_vlookup2.to_csv(r'R:\\Austin_CustomReports\\Unbilled_Data\\UnbilledCurrent_to_AllFiles.csv')\n",
    "new_file2"
   ],
   "metadata": {
    "collapsed": false,
    "pycharm": {
     "name": "#%%\n"
    }
   }
  },
  {
   "cell_type": "code",
   "execution_count": null,
   "outputs": [],
   "source": [],
   "metadata": {
    "collapsed": false,
    "pycharm": {
     "name": "#%%\n"
    }
   }
  }
 ],
 "metadata": {
  "kernelspec": {
   "display_name": "Python 3",
   "language": "python",
   "name": "python3"
  },
  "language_info": {
   "codemirror_mode": {
    "name": "ipython",
    "version": 2
   },
   "file_extension": ".py",
   "mimetype": "text/x-python",
   "name": "python",
   "nbconvert_exporter": "python",
   "pygments_lexer": "ipython2",
   "version": "2.7.6"
  }
 },
 "nbformat": 4,
 "nbformat_minor": 0
}