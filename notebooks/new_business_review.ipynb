{
 "cells": [
  {
   "cell_type": "code",
   "execution_count": 1,
   "metadata": {
    "collapsed": true
   },
   "outputs": [],
   "source": [
    "import warnings\n",
    "import itertools\n",
    "import numpy as np\n",
    "import matplotlib.pyplot as plt\n",
    "warnings.filterwarnings(\"ignore\")\n",
    "plt.style.use('fivethirtyeight')\n",
    "import pandas as pd\n",
    "import statsmodels.api as sm\n",
    "import matplotlib\n",
    "\n",
    "matplotlib.rcParams['axes.labelsize'] = 14\n",
    "matplotlib.rcParams['xtick.labelsize'] = 12\n",
    "matplotlib.rcParams['ytick.labelsize'] = 12\n",
    "matplotlib.rcParams['text.color'] = 'k'\n"
   ]
  },
  {
   "cell_type": "code",
   "execution_count": 2,
   "outputs": [
    {
     "data": {
      "text/plain": "      FILE NO  Count REPORT DATE DATE OPENED Month  Year  DIVISION  \\\n0   10-000021      1  2020-05-19  2020-05-19   May  2020        10   \n1  1114983-01      1  2020-01-13  2019-11-18   Jan  2020        10   \n2  1114998-01      1  2020-01-02  2019-11-27   Jan  2020        10   \n3  1115009-01      1  2020-02-01  2019-12-06   Feb  2020        10   \n4  1115012-01      1  2020-01-06  2019-12-09   Jan  2020        10   \n\n   BUSINESS LINE  SALESMAN CODE    SALESMAN NAME  ... CUSTOMER CITY  \\\n0           65.0            NaN              NaN  ...           NaN   \n1           15.0           28.0           JODI O  ...       HAMBURG   \n2           15.0            5.0  JOE WYSON/HOUSE  ...       FREMONT   \n3           15.0           28.0           JODI O  ...       HAMBURG   \n4           15.0           28.0           JODI O  ...      DAYVILLE   \n\n                  SHIPPER NAME               CONSIGNEE NAME GROSS WEIGHT  \\\n0                          NaN                          NaN        0.000   \n1          WEB INDUSTRIES INC.    WEB INDUSTRIES STADE GMBH     9923.000   \n2  ELECTRONICS FOR IMAGING INC        BEITH DIGITAL PTY LTD     3659.620   \n3          WEB INDUSTRIES INC.    WEB INDUSTRIES STADE GMBH    10031.751   \n4          WEB INDUSTRIES INC.  COMMSCOPE SOLUTIONS IRELAND    15891.000   \n\n   REVENUE  EXPENSE   PROFIT  DUTY BILLED  TOTAL BILLED TO ACCOUNT  \\\n0     0.00     0.00     0.00          0.0                     0.00   \n1  2279.90  1177.36  1102.54          0.0                  2279.90   \n2  4213.73  3646.01   567.72          0.0                  4213.73   \n3  2279.90  1177.36  1102.54          0.0                  2279.90   \n4  3862.50  3145.54   716.96          0.0                  3862.50   \n\n   Rev. Less Duties  \n0              0.00  \n1           2279.90  \n2           4213.73  \n3           2279.90  \n4           3862.50  \n\n[5 rows x 22 columns]",
      "text/html": "<div>\n<style scoped>\n    .dataframe tbody tr th:only-of-type {\n        vertical-align: middle;\n    }\n\n    .dataframe tbody tr th {\n        vertical-align: top;\n    }\n\n    .dataframe thead th {\n        text-align: right;\n    }\n</style>\n<table border=\"1\" class=\"dataframe\">\n  <thead>\n    <tr style=\"text-align: right;\">\n      <th></th>\n      <th>FILE NO</th>\n      <th>Count</th>\n      <th>REPORT DATE</th>\n      <th>DATE OPENED</th>\n      <th>Month</th>\n      <th>Year</th>\n      <th>DIVISION</th>\n      <th>BUSINESS LINE</th>\n      <th>SALESMAN CODE</th>\n      <th>SALESMAN NAME</th>\n      <th>...</th>\n      <th>CUSTOMER CITY</th>\n      <th>SHIPPER NAME</th>\n      <th>CONSIGNEE NAME</th>\n      <th>GROSS WEIGHT</th>\n      <th>REVENUE</th>\n      <th>EXPENSE</th>\n      <th>PROFIT</th>\n      <th>DUTY BILLED</th>\n      <th>TOTAL BILLED TO ACCOUNT</th>\n      <th>Rev. Less Duties</th>\n    </tr>\n  </thead>\n  <tbody>\n    <tr>\n      <th>0</th>\n      <td>10-000021</td>\n      <td>1</td>\n      <td>2020-05-19</td>\n      <td>2020-05-19</td>\n      <td>May</td>\n      <td>2020</td>\n      <td>10</td>\n      <td>65.0</td>\n      <td>NaN</td>\n      <td>NaN</td>\n      <td>...</td>\n      <td>NaN</td>\n      <td>NaN</td>\n      <td>NaN</td>\n      <td>0.000</td>\n      <td>0.00</td>\n      <td>0.00</td>\n      <td>0.00</td>\n      <td>0.0</td>\n      <td>0.00</td>\n      <td>0.00</td>\n    </tr>\n    <tr>\n      <th>1</th>\n      <td>1114983-01</td>\n      <td>1</td>\n      <td>2020-01-13</td>\n      <td>2019-11-18</td>\n      <td>Jan</td>\n      <td>2020</td>\n      <td>10</td>\n      <td>15.0</td>\n      <td>28.0</td>\n      <td>JODI O</td>\n      <td>...</td>\n      <td>HAMBURG</td>\n      <td>WEB INDUSTRIES INC.</td>\n      <td>WEB INDUSTRIES STADE GMBH</td>\n      <td>9923.000</td>\n      <td>2279.90</td>\n      <td>1177.36</td>\n      <td>1102.54</td>\n      <td>0.0</td>\n      <td>2279.90</td>\n      <td>2279.90</td>\n    </tr>\n    <tr>\n      <th>2</th>\n      <td>1114998-01</td>\n      <td>1</td>\n      <td>2020-01-02</td>\n      <td>2019-11-27</td>\n      <td>Jan</td>\n      <td>2020</td>\n      <td>10</td>\n      <td>15.0</td>\n      <td>5.0</td>\n      <td>JOE WYSON/HOUSE</td>\n      <td>...</td>\n      <td>FREMONT</td>\n      <td>ELECTRONICS FOR IMAGING INC</td>\n      <td>BEITH DIGITAL PTY LTD</td>\n      <td>3659.620</td>\n      <td>4213.73</td>\n      <td>3646.01</td>\n      <td>567.72</td>\n      <td>0.0</td>\n      <td>4213.73</td>\n      <td>4213.73</td>\n    </tr>\n    <tr>\n      <th>3</th>\n      <td>1115009-01</td>\n      <td>1</td>\n      <td>2020-02-01</td>\n      <td>2019-12-06</td>\n      <td>Feb</td>\n      <td>2020</td>\n      <td>10</td>\n      <td>15.0</td>\n      <td>28.0</td>\n      <td>JODI O</td>\n      <td>...</td>\n      <td>HAMBURG</td>\n      <td>WEB INDUSTRIES INC.</td>\n      <td>WEB INDUSTRIES STADE GMBH</td>\n      <td>10031.751</td>\n      <td>2279.90</td>\n      <td>1177.36</td>\n      <td>1102.54</td>\n      <td>0.0</td>\n      <td>2279.90</td>\n      <td>2279.90</td>\n    </tr>\n    <tr>\n      <th>4</th>\n      <td>1115012-01</td>\n      <td>1</td>\n      <td>2020-01-06</td>\n      <td>2019-12-09</td>\n      <td>Jan</td>\n      <td>2020</td>\n      <td>10</td>\n      <td>15.0</td>\n      <td>28.0</td>\n      <td>JODI O</td>\n      <td>...</td>\n      <td>DAYVILLE</td>\n      <td>WEB INDUSTRIES INC.</td>\n      <td>COMMSCOPE SOLUTIONS IRELAND</td>\n      <td>15891.000</td>\n      <td>3862.50</td>\n      <td>3145.54</td>\n      <td>716.96</td>\n      <td>0.0</td>\n      <td>3862.50</td>\n      <td>3862.50</td>\n    </tr>\n  </tbody>\n</table>\n<p>5 rows × 22 columns</p>\n</div>"
     },
     "execution_count": 2,
     "metadata": {},
     "output_type": "execute_result"
    }
   ],
   "source": [
    "df = pd.read_excel(\"data/CUSTOMER_BUSINESS_REVIEW_Jan-June.xlsx\")\n",
    "df.head()"
   ],
   "metadata": {
    "collapsed": false,
    "pycharm": {
     "name": "#%%\n"
    }
   }
  },
  {
   "cell_type": "code",
   "execution_count": 3,
   "outputs": [
    {
     "data": {
      "text/plain": "(Timestamp('2020-01-01 00:00:00'), Timestamp('2020-06-30 00:00:00'))"
     },
     "execution_count": 3,
     "metadata": {},
     "output_type": "execute_result"
    }
   ],
   "source": [
    "df['REPORT DATE'].min(), df['REPORT DATE'].max()\n"
   ],
   "metadata": {
    "collapsed": false,
    "pycharm": {
     "name": "#%%\n"
    }
   }
  },
  {
   "cell_type": "code",
   "execution_count": 4,
   "outputs": [
    {
     "data": {
      "text/plain": "Count                    0\nREPORT DATE              0\nMonth                    0\nYear                     0\nDIVISION                 0\nBUSINESS LINE           13\nSALESMAN CODE          808\nSALESMAN NAME          808\nMETHOD OF TRANSPORT      0\nCUSTOMER NAME           22\nREVENUE                  0\nEXPENSE                  0\nPROFIT                   0\ndtype: int64"
     },
     "execution_count": 4,
     "metadata": {},
     "output_type": "execute_result"
    }
   ],
   "source": [
    "cols = ['DATE OPENED', 'FILE NO', 'CUSTOMER CITY', 'SHIPPER NAME', 'CONSIGNEE NAME', 'GROSS WEIGHT',\n",
    "        'DUTY BILLED', 'TOTAL BILLED TO ACCOUNT', 'Rev. Less Duties']\n",
    "\n",
    "df.drop(cols, axis=1, inplace=True)\n",
    "df = df.sort_values('REPORT DATE')\n",
    "df.to_excel('data/Cleaned_Customer_Business_Review_Jan-Jun2020.xlsx')\n",
    "\n",
    "df.isnull().sum()"
   ],
   "metadata": {
    "collapsed": false,
    "pycharm": {
     "name": "#%%\n"
    }
   }
  },
  {
   "cell_type": "code",
   "execution_count": 5,
   "outputs": [
    {
     "data": {
      "text/plain": "REPORT DATE\n2020-01-01    210583.933226\n2020-02-01    189394.601724\n2020-03-01    151527.746129\n2020-04-01    150637.294667\n2020-05-01    187514.834194\n2020-06-01    189513.549000\nFreq: MS, Name: REVENUE, dtype: float64"
     },
     "execution_count": 5,
     "metadata": {},
     "output_type": "execute_result"
    }
   ],
   "source": [
    "cleaned_df = df.groupby('REPORT DATE')['REVENUE'].sum().reset_index()\n",
    "cleaned_df = cleaned_df.set_index('REPORT DATE')\n",
    "\n",
    "y = cleaned_df['REVENUE'].resample('MS').mean()\n",
    "y['2020':]"
   ],
   "metadata": {
    "collapsed": false,
    "pycharm": {
     "name": "#%%\n"
    }
   }
  },
  {
   "cell_type": "markdown",
   "source": [
    "### Visualizing Sales Revenue Time Series Data"
   ],
   "metadata": {
    "collapsed": false,
    "pycharm": {
     "name": "#%% md\n"
    }
   }
  },
  {
   "cell_type": "code",
   "execution_count": 16,
   "outputs": [
    {
     "data": {
      "text/plain": "<Figure size 1080x432 with 1 Axes>",
      "image/png": "[encoded data removed]"
     },
     "metadata": {},
     "output_type": "display_data"
    }
   ],
   "source": [
    "y.plot(figsize=(15, 6))\n",
    "plt.show()"
   ],
   "metadata": {
    "collapsed": false,
    "pycharm": {
     "name": "#%%\n"
    }
   }
  },
  {
   "cell_type": "code",
   "execution_count": 17,
   "outputs": [],
   "source": [
    "sales_reps = ['AGENTS', 'AP Vendor', 'Elaine Dresios', 'Internal',\n",
    "              'J HLUDIK Reassigned', 'JLeVATO AGENTS', 'MOLIVEIRA',\n",
    "              'Oceanair - California', 'PATTY MARCO', 'PERISHABLES',\n",
    "              'TDOONER', 'UNASSIGNED']\n",
    "\n",
    "comm_reps = ('JOE WYSON/HOUSE', \"KL'HEUREUX\", 'JODI O', 'ED KAPLAN/HOUSE', 'VALERIE KOEN',\n",
    "             'PDAVIS', 'JOSEPHINE LEVATO', 'PDAVIS - PW REASSIGNED', 'JOLSON - REASSIGNED',\n",
    "             'TSIROGIANIS - PW REASSIGNED', 'Justin Andrews', 'GEORGE T.', 'JOLSON - PW REASSIGNED',\n",
    "             'Christine Roderick', \"KL'HEUREUX - PW REASSIGNED\", 'MA REP', 'VALERIE KOEN - REASSIGNED',\n",
    "             'MA REP - REASSIGNED')\n",
    "\n"
   ],
   "metadata": {
    "collapsed": false,
    "pycharm": {
     "name": "#%%\n"
    }
   }
  },
  {
   "cell_type": "code",
   "execution_count": 18,
   "outputs": [
    {
     "ename": "TypeError",
     "evalue": "'tuple' object is not callable",
     "output_type": "error",
     "traceback": [
      "\u001B[1;31m---------------------------------------------------------------------------\u001B[0m",
      "\u001B[1;31mTypeError\u001B[0m                                 Traceback (most recent call last)",
      "\u001B[1;32m<ipython-input-18-3d22546137dc>\u001B[0m in \u001B[0;36m<module>\u001B[1;34m\u001B[0m\n\u001B[1;32m----> 1\u001B[1;33m \u001B[0mcomms_df\u001B[0m \u001B[1;33m=\u001B[0m \u001B[0mdf\u001B[0m\u001B[1;33m.\u001B[0m\u001B[0mgroupby\u001B[0m\u001B[1;33m(\u001B[0m\u001B[1;34m'REPORT DATE'\u001B[0m\u001B[1;33m)\u001B[0m\u001B[1;33m.\u001B[0m\u001B[0mfilter\u001B[0m\u001B[1;33m(\u001B[0m\u001B[0mcomm_reps\u001B[0m\u001B[1;33m,\u001B[0m \u001B[0mdropna\u001B[0m\u001B[1;33m=\u001B[0m\u001B[1;32mTrue\u001B[0m\u001B[1;33m)\u001B[0m\u001B[1;33m.\u001B[0m\u001B[0mreset_index\u001B[0m\u001B[1;33m(\u001B[0m\u001B[1;33m)\u001B[0m\u001B[1;33m\u001B[0m\u001B[1;33m\u001B[0m\u001B[0m\n\u001B[0m\u001B[0;32m      2\u001B[0m \u001B[0mcomms_df\u001B[0m\u001B[1;33m.\u001B[0m\u001B[0mhead\u001B[0m\u001B[1;33m(\u001B[0m\u001B[1;36m10\u001B[0m\u001B[1;33m)\u001B[0m\u001B[1;33m\u001B[0m\u001B[1;33m\u001B[0m\u001B[0m\n\u001B[0;32m      3\u001B[0m \u001B[1;33m\u001B[0m\u001B[0m\n",
      "\u001B[1;32ms:\\github\\.virtualenvs\\reportingvenv64\\lib\\site-packages\\pandas\\core\\groupby\\generic.py\u001B[0m in \u001B[0;36mfilter\u001B[1;34m(self, func, dropna, *args, **kwargs)\u001B[0m\n\u001B[0;32m   1577\u001B[0m             \u001B[0mobject\u001B[0m\u001B[1;33m.\u001B[0m\u001B[0m__setattr__\u001B[0m\u001B[1;33m(\u001B[0m\u001B[0mgroup\u001B[0m\u001B[1;33m,\u001B[0m \u001B[1;34m\"name\"\u001B[0m\u001B[1;33m,\u001B[0m \u001B[0mname\u001B[0m\u001B[1;33m)\u001B[0m\u001B[1;33m\u001B[0m\u001B[1;33m\u001B[0m\u001B[0m\n\u001B[0;32m   1578\u001B[0m \u001B[1;33m\u001B[0m\u001B[0m\n\u001B[1;32m-> 1579\u001B[1;33m             \u001B[0mres\u001B[0m \u001B[1;33m=\u001B[0m \u001B[0mfunc\u001B[0m\u001B[1;33m(\u001B[0m\u001B[0mgroup\u001B[0m\u001B[1;33m,\u001B[0m \u001B[1;33m*\u001B[0m\u001B[0margs\u001B[0m\u001B[1;33m,\u001B[0m \u001B[1;33m**\u001B[0m\u001B[0mkwargs\u001B[0m\u001B[1;33m)\u001B[0m\u001B[1;33m\u001B[0m\u001B[1;33m\u001B[0m\u001B[0m\n\u001B[0m\u001B[0;32m   1580\u001B[0m \u001B[1;33m\u001B[0m\u001B[0m\n\u001B[0;32m   1581\u001B[0m             \u001B[1;32mtry\u001B[0m\u001B[1;33m:\u001B[0m\u001B[1;33m\u001B[0m\u001B[1;33m\u001B[0m\u001B[0m\n",
      "\u001B[1;31mTypeError\u001B[0m: 'tuple' object is not callable"
     ]
    }
   ],
   "source": [
    "comms_df = df.groupby('REPORT DATE').filter(comm_reps, dropna=True).reset_index()\n",
    "comms_df.head(10)"
   ],
   "metadata": {
    "collapsed": false,
    "pycharm": {
     "name": "#%%\n"
    }
   }
  },
  {
   "cell_type": "code",
   "execution_count": 8,
   "outputs": [],
   "source": [],
   "metadata": {
    "collapsed": false,
    "pycharm": {
     "name": "#%%\n"
    }
   }
  }
 ],
 "metadata": {
  "kernelspec": {
   "name": "python3",
   "language": "python",
   "display_name": "Python 3"
  },
  "language_info": {
   "codemirror_mode": {
    "name": "ipython",
    "version": 2
   },
   "file_extension": ".py",
   "mimetype": "text/x-python",
   "name": "python",
   "nbconvert_exporter": "python",
   "pygments_lexer": "ipython2",
   "version": "2.7.6"
  }
 },
 "nbformat": 4,
 "nbformat_minor": 0
}